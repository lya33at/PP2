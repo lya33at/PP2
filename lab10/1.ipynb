{
 "cells": [
  {
   "cell_type": "code",
   "execution_count": 25,
   "id": "e8c33ff9-1b4c-4a93-a493-4f4de545a1f5",
   "metadata": {},
   "outputs": [
    {
     "name": "stdout",
     "output_type": "stream",
     "text": [
      "\n",
      " phonebook menu:\n",
      "1 - add user\n",
      "2 - load from csv\n",
      "3 - update data\n",
      "4 - view all users\n",
      "5 - search by name or phone\n",
      "6 - delete by name or phone\n",
      "0 - exit\n"
     ]
    },
    {
     "name": "stdin",
     "output_type": "stream",
     "text": [
      "choice:  2\n",
      "enter file name (users.csv):  phonebook_example.csv\n"
     ]
    },
    {
     "name": "stdout",
     "output_type": "stream",
     "text": [
      "data from csv loaded!\n",
      "\n",
      " phonebook menu:\n",
      "1 - add user\n",
      "2 - load from csv\n",
      "3 - update data\n",
      "4 - view all users\n",
      "5 - search by name or phone\n",
      "6 - delete by name or phone\n",
      "0 - exit\n"
     ]
    },
    {
     "name": "stdin",
     "output_type": "stream",
     "text": [
      "choice:  0\n"
     ]
    },
    {
     "name": "stdout",
     "output_type": "stream",
     "text": [
      "bye!\n"
     ]
    }
   ],
   "source": [
    "import pg8000\n",
    "import csv\n",
    "\n",
    "conn = pg8000.connect(\n",
    "    user=\"postgres\",\n",
    "    password=\"nurper123\",\n",
    "    database=\"postgres\",\n",
    "    host=\"localhost\",\n",
    "    port=5432\n",
    ")\n",
    "cur = conn.cursor()\n",
    "\n",
    "cur.execute(\"\"\"\n",
    "    create table if not exists phonebook (\n",
    "        id serial primary key,\n",
    "        first_name varchar(100),\n",
    "        phone varchar(20)\n",
    "    );\n",
    "\"\"\")\n",
    "conn.commit()\n",
    "\n",
    "def insert_user(name, phone):\n",
    "    cur.execute(\"insert into phonebook (first_name, phone) values (%s, %s);\", (name, phone))\n",
    "    conn.commit()\n",
    "    print(\"added!\")\n",
    "\n",
    "def insert_from_csv(filename):\n",
    "    with open(filename, 'r') as file:\n",
    "        reader = csv.reader(file)\n",
    "        next(reader)\n",
    "        for row in reader:\n",
    "            cur.execute(\"insert into phonebook (first_name, phone) values (%s, %s);\", (row[0], row[1]))\n",
    "        conn.commit()\n",
    "        print(\"data from csv loaded!\")\n",
    "\n",
    "def update_user(old_name, new_name=None, new_phone=None):\n",
    "    if new_name:\n",
    "        cur.execute(\"update phonebook set first_name = %s where first_name = %s;\", (new_name, old_name))\n",
    "    if new_phone:\n",
    "        cur.execute(\"update phonebook set phone = %s where first_name = %s;\", (new_phone, old_name))\n",
    "    conn.commit()\n",
    "    print(\"updated!\")\n",
    "\n",
    "def query_users(filter_text=None):\n",
    "    if filter_text:\n",
    "        cur.execute(\"select * from phonebook where first_name like %s or phone like %s;\", (f\"%{filter_text}%\", f\"%{filter_text}%\"))\n",
    "    else:\n",
    "        cur.execute(\"select * from phonebook;\")\n",
    "    rows = cur.fetchall()\n",
    "    for row in rows:\n",
    "        print(row)\n",
    "\n",
    "def delete_user(name_or_phone):\n",
    "    cur.execute(\"delete from phonebook where first_name = %s or phone = %s;\", (name_or_phone, name_or_phone))\n",
    "    conn.commit()\n",
    "    print(\"deleted!\")\n",
    "\n",
    "def main_menu():\n",
    "    while True:\n",
    "        print(\"\\n phonebook menu:\")\n",
    "        print(\"1 - add user\")\n",
    "        print(\"2 - load from csv\")\n",
    "        print(\"3 - update data\")\n",
    "        print(\"4 - view all users\")\n",
    "        print(\"5 - search by name or phone\")\n",
    "        print(\"6 - delete by name or phone\")\n",
    "        print(\"0 - exit\")\n",
    "        \n",
    "        choice = input(\"choice: \")\n",
    "\n",
    "        if choice == \"1\":\n",
    "            name = input(\"enter name: \")\n",
    "            phone = input(\"enter phone number: \")\n",
    "            insert_user(name, phone)\n",
    "\n",
    "        elif choice == \"2\":\n",
    "            filename = input(\"enter file name (users.csv): \")\n",
    "            insert_from_csv(filename)\n",
    "\n",
    "        elif choice == \"3\":\n",
    "            old_name = input(\"old name: \")\n",
    "            new_name = input(\"new name (enter - skip): \") or None\n",
    "            new_phone = input(\"new phone number (enter - skip): \") or None\n",
    "            update_user(old_name, new_name, new_phone)\n",
    "\n",
    "        elif choice == \"4\":\n",
    "            query_users()\n",
    "\n",
    "        elif choice == \"5\":\n",
    "            filter_text = input(\"enter filter (name or phone): \")\n",
    "            query_users(filter_text)\n",
    "\n",
    "        elif choice == \"6\":\n",
    "            val = input(\"name or phone to delete: \")\n",
    "            delete_user(val)\n",
    "\n",
    "        elif choice == \"0\":\n",
    "            print(\"bye!\")\n",
    "            break\n",
    "\n",
    "        else:\n",
    "            print(\"invalid input. try again.\")\n",
    "\n",
    "main_menu()"
   ]
  },
  {
   "cell_type": "code",
   "execution_count": null,
   "id": "0d387213-ceb3-4d08-9dc5-256af67cc524",
   "metadata": {},
   "outputs": [],
   "source": []
  }
 ],
 "metadata": {
  "kernelspec": {
   "display_name": "Python [conda env:base] *",
   "language": "python",
   "name": "conda-base-py"
  },
  "language_info": {
   "codemirror_mode": {
    "name": "ipython",
    "version": 3
   },
   "file_extension": ".py",
   "mimetype": "text/x-python",
   "name": "python",
   "nbconvert_exporter": "python",
   "pygments_lexer": "ipython3",
   "version": "3.12.7"
  }
 },
 "nbformat": 4,
 "nbformat_minor": 5
}
