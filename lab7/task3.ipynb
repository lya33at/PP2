{
 "cells": [
  {
   "cell_type": "code",
   "execution_count": 1,
   "id": "8cb42203-f6d7-4a94-a471-b84da45ec94b",
   "metadata": {},
   "outputs": [
    {
     "name": "stdout",
     "output_type": "stream",
     "text": [
      "Collecting pygame\n",
      "  Downloading pygame-2.6.1-cp312-cp312-win_amd64.whl.metadata (13 kB)\n",
      "Downloading pygame-2.6.1-cp312-cp312-win_amd64.whl (10.6 MB)\n",
      "   ---------------------------------------- 0.0/10.6 MB ? eta -:--:--\n",
      "   ---------------------------------------- 0.0/10.6 MB ? eta -:--:--\n",
      "   -- ------------------------------------- 0.8/10.6 MB 3.0 MB/s eta 0:00:04\n",
      "   ---- ----------------------------------- 1.3/10.6 MB 4.5 MB/s eta 0:00:03\n",
      "   --------- ------------------------------ 2.6/10.6 MB 4.7 MB/s eta 0:00:02\n",
      "   --------------- ------------------------ 4.2/10.6 MB 4.7 MB/s eta 0:00:02\n",
      "   ---------------------- ----------------- 6.0/10.6 MB 5.7 MB/s eta 0:00:01\n",
      "   ---------------------- ----------------- 6.0/10.6 MB 5.7 MB/s eta 0:00:01\n",
      "   ------------------------------ --------- 8.1/10.6 MB 5.6 MB/s eta 0:00:01\n",
      "   --------------------------------- ------ 8.9/10.6 MB 5.4 MB/s eta 0:00:01\n",
      "   ------------------------------------- -- 10.0/10.6 MB 5.2 MB/s eta 0:00:01\n",
      "   ---------------------------------------- 10.6/10.6 MB 5.0 MB/s eta 0:00:00\n",
      "Installing collected packages: pygame\n",
      "Successfully installed pygame-2.6.1\n",
      "Note: you may need to restart the kernel to use updated packages.\n"
     ]
    }
   ],
   "source": [
    "pip install pygame"
   ]
  },
  {
   "cell_type": "code",
   "execution_count": 3,
   "id": "f4c34bc6-5ef9-42f2-834c-15d593a8cac1",
   "metadata": {},
   "outputs": [
    {
     "name": "stdout",
     "output_type": "stream",
     "text": [
      "pygame 2.6.1 (SDL 2.28.4, Python 3.12.7)\n",
      "Hello from the pygame community. https://www.pygame.org/contribute.html\n"
     ]
    },
    {
     "ename": "SystemExit",
     "evalue": "",
     "output_type": "error",
     "traceback": [
      "An exception has occurred, use %tb to see the full traceback.\n",
      "\u001b[1;31mSystemExit\u001b[0m\n"
     ]
    },
    {
     "name": "stderr",
     "output_type": "stream",
     "text": [
      "C:\\Users\\User\\anaconda3\\Lib\\site-packages\\IPython\\core\\interactiveshell.py:3585: UserWarning: To exit: use 'exit', 'quit', or Ctrl-D.\n",
      "  warn(\"To exit: use 'exit', 'quit', or Ctrl-D.\", stacklevel=1)\n"
     ]
    }
   ],
   "source": [
    "import pygame\n",
    "import sys\n",
    "\n",
    "size = width, heigth = 1000, 600\n",
    "screen = pygame.display.set_mode(size)\n",
    "pygame.display.set_caption(\"Geometric Drawing\")\n",
    "clock = pygame.time.Clock()\n",
    "\n",
    "width, height = screen.get_size()\n",
    "\n",
    "player_pos = pygame.Vector2(screen.get_width() / 2, screen.get_height() / 2)\n",
    "\n",
    "white = 255, 255, 255\n",
    "red = 255, 0, 0\n",
    "\n",
    "running = True\n",
    "while running:\n",
    "    for event in pygame.event.get():\n",
    "        if event.type == pygame.QUIT:\n",
    "            running = False\n",
    "    \n",
    "    screen.fill(white)\n",
    "    \n",
    "    pygame.draw.circle(screen, red,player_pos, 25)\n",
    "    \n",
    "    keys = pygame.key.get_pressed()\n",
    "    if keys[pygame.K_UP] and player_pos.y - 25 > 0:\n",
    "        player_pos.y -= 20 \n",
    "    if keys[pygame.K_DOWN] and player_pos.y + 25 < height:\n",
    "        player_pos.y += 20\n",
    "    if keys[pygame.K_LEFT] and player_pos.x - 25 > 0:\n",
    "        player_pos.x -= 20 \n",
    "    if keys[pygame.K_RIGHT] and player_pos.x + 25 < width:\n",
    "        player_pos.x += 20 \n",
    "    \n",
    "    \n",
    "        \n",
    "    pygame.display.flip()\n",
    "    \n",
    "    dt = clock.tick(60) / 1000\n",
    "    \n",
    "pygame.quit()\n",
    "sys.exit()"
   ]
  },
  {
   "cell_type": "code",
   "execution_count": null,
   "id": "913da6a8-1d9d-4520-a267-3462a18d1d4e",
   "metadata": {},
   "outputs": [],
   "source": []
  }
 ],
 "metadata": {
  "kernelspec": {
   "display_name": "Python [conda env:base] *",
   "language": "python",
   "name": "conda-base-py"
  },
  "language_info": {
   "codemirror_mode": {
    "name": "ipython",
    "version": 3
   },
   "file_extension": ".py",
   "mimetype": "text/x-python",
   "name": "python",
   "nbconvert_exporter": "python",
   "pygments_lexer": "ipython3",
   "version": "3.12.7"
  }
 },
 "nbformat": 4,
 "nbformat_minor": 5
}
